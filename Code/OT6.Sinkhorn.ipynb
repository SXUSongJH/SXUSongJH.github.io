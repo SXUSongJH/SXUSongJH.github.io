{
 "cells": [
  {
   "cell_type": "code",
   "execution_count": 1,
   "metadata": {},
   "outputs": [],
   "source": [
    "import numpy as np\n",
    "import ot"
   ]
  },
  {
   "cell_type": "code",
   "execution_count": 2,
   "metadata": {},
   "outputs": [],
   "source": [
    "a = np.array([0.2, 0.5, 0.3])\n",
    "b = np.array([0.3, 0.4, 0.3])\n",
    "M = np.array([[0.1, 0.2, 0.3],\n",
    "              [0.4, 0.5, 0.6],\n",
    "              [0.7, 0.8, 0.9]])\n",
    "reg_param = 0.01"
   ]
  },
  {
   "cell_type": "code",
   "execution_count": 14,
   "metadata": {},
   "outputs": [],
   "source": [
    "def sinkhorn_entropy_regularized_with_distance(a, b, M, reg_param, max_iters=100):\n",
    "    \"\"\"\n",
    "    Sinkhorn算法解决带有熵正则项的最优传输问题，并计算Sinkhorn距离\n",
    "    :param a: 第一个非负向量\n",
    "    :param b: 第二个非负向量\n",
    "    :param M: 距离矩阵\n",
    "    :param reg_param: 正则项的参数\n",
    "    :param max_iters: 最大迭代次数\n",
    "    :return: 最优传输矩阵, Sinkhorn距离\n",
    "    \"\"\"\n",
    "    # 初始化\n",
    "    n = len(a)\n",
    "    m = len(b)\n",
    "    u = np.ones(n)\n",
    "    v = np.ones(m)\n",
    "\n",
    "    # 迭代更新\n",
    "    for _ in range(max_iters):\n",
    "        K = np.exp(-M / reg_param)  # 使用正则化参数调整距离矩阵\n",
    "        u = a / (K.dot(v))\n",
    "        v = b / (K.T.dot(u))\n",
    "\n",
    "    # 计算最优传输矩阵\n",
    "    transport_matrix = np.diag(u).dot(K).dot(np.diag(v))\n",
    "\n",
    "    # 计算Sinkhorn距离\n",
    "    sinkhorn_distance = np.sum(transport_matrix * M)\n",
    "\n",
    "    return transport_matrix, sinkhorn_distance"
   ]
  },
  {
   "cell_type": "code",
   "execution_count": 15,
   "metadata": {},
   "outputs": [
    {
     "name": "stdout",
     "output_type": "stream",
     "text": [
      "最优传输矩阵：\n",
      "[[0.06 0.08 0.06]\n",
      " [0.15 0.2  0.15]\n",
      " [0.09 0.12 0.09]]\n",
      "Sinkhorn距离： 0.53\n"
     ]
    }
   ],
   "source": [
    "transport_matrix, sinkhorn_distance = sinkhorn_entropy_regularized_with_distance(a, b, M, reg_param)\n",
    "print(\"最优传输矩阵：\")\n",
    "print(transport_matrix)\n",
    "print(\"Sinkhorn距离：\", sinkhorn_distance)"
   ]
  },
  {
   "cell_type": "code",
   "execution_count": 10,
   "metadata": {},
   "outputs": [
    {
     "name": "stdout",
     "output_type": "stream",
     "text": [
      "最优传输矩阵：\n",
      "[[0.06 0.08 0.06]\n",
      " [0.15 0.2  0.15]\n",
      " [0.09 0.12 0.09]]\n",
      "Sinkhorn距离： 0.53\n"
     ]
    }
   ],
   "source": [
    "# 使用POT库中的sinkhorn2函数求解\n",
    "optimal_matrix = ot.sinkhorn(a, b, M, reg_param)\n",
    "sinkhorn_distance = ot.sinkhorn2(a, b, M, reg_param)\n",
    "print(\"最优传输矩阵：\")\n",
    "print(transport_matrix)\n",
    "print(\"Sinkhorn距离：\", sinkhorn_distance)"
   ]
  },
  {
   "cell_type": "code",
   "execution_count": null,
   "metadata": {},
   "outputs": [],
   "source": []
  }
 ],
 "metadata": {
  "kernelspec": {
   "display_name": "Python 3",
   "language": "python",
   "name": "python3"
  },
  "language_info": {
   "codemirror_mode": {
    "name": "ipython",
    "version": 3
   },
   "file_extension": ".py",
   "mimetype": "text/x-python",
   "name": "python",
   "nbconvert_exporter": "python",
   "pygments_lexer": "ipython3",
   "version": "3.10.5"
  }
 },
 "nbformat": 4,
 "nbformat_minor": 2
}
