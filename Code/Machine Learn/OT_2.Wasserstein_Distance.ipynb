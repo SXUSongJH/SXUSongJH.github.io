{
 "cells": [
  {
   "cell_type": "code",
   "execution_count": 1,
   "metadata": {},
   "outputs": [],
   "source": [
    "import numpy as np\n",
    "import matplotlib.pyplot as plt\n",
    "import ot"
   ]
  },
  {
   "cell_type": "code",
   "execution_count": 14,
   "metadata": {},
   "outputs": [],
   "source": [
    "def pbar(x,y,color,title):\n",
    "    plt.bar(x,y, width=1, color=color,alpha=0.7)\n",
    "    plt.title(title)\n",
    "    plt.xlabel('Value')\n",
    "    plt.ylabel('Probability')\n",
    "\n",
    "# 1*2 plot\n",
    "def multiplot(x,y_1,y_2):\n",
    "    plt.figure(figsize=(10,4))\n",
    "    plt.subplot(1,2,1)\n",
    "    pbar(x,y_1, color=\"blue\", title='alpha distribution')\n",
    "    plt.subplot(1,2,2)\n",
    "    pbar(x,y_2, color=\"green\", title='beta distribution')\n",
    "    plt.show()"
   ]
  },
  {
   "cell_type": "code",
   "execution_count": 21,
   "metadata": {},
   "outputs": [
    {
     "data": {
      "image/png": "[encoded data removed]",
      "text/plain": [
       "<Figure size 720x288 with 2 Axes>"
      ]
     },
     "metadata": {
      "needs_background": "light"
     },
     "output_type": "display_data"
    }
   ],
   "source": [
    "# values of probalility distribution\n",
    "x = np.array([1,2,3,4,5])\n",
    "# probability vector\n",
    "a = np.array([0.1,0.3,0.2,0.1,0.3])\n",
    "b = np.array([0.1,0.3,0.2,0.3,0.1])\n",
    "# draw distribution barplot\n",
    "multiplot(x,a,b)"
   ]
  },
  {
   "cell_type": "code",
   "execution_count": 18,
   "metadata": {},
   "outputs": [
    {
     "data": {
      "text/plain": [
       "array([[ 0.,  1.,  4.,  9., 16.],\n",
       "       [ 1.,  0.,  1.,  4.,  9.],\n",
       "       [ 4.,  1.,  0.,  1.,  4.],\n",
       "       [ 9.,  4.,  1.,  0.,  1.],\n",
       "       [16.,  9.,  4.,  1.,  0.]])"
      ]
     },
     "execution_count": 18,
     "metadata": {},
     "output_type": "execute_result"
    }
   ],
   "source": [
    "# ground cost\n",
    "def ground_cost(n):\n",
    "    C = np.zeros((n, n))\n",
    "    for i in range(n):\n",
    "        for j in range(n):\n",
    "            x = i+1\n",
    "            y = j+1\n",
    "            C[i][j] = (x-y)**2\n",
    "    return C\n",
    "\n",
    "C = ground_cost(5)\n",
    "C"
   ]
  },
  {
   "cell_type": "code",
   "execution_count": 27,
   "metadata": {},
   "outputs": [
    {
     "name": "stdout",
     "output_type": "stream",
     "text": [
      "[[0.1 0.  0.  0.  0. ]\n",
      " [0.  0.3 0.  0.  0. ]\n",
      " [0.  0.  0.2 0.  0. ]\n",
      " [0.  0.  0.  0.1 0. ]\n",
      " [0.  0.  0.  0.2 0.1]]\n",
      "0.4472\n"
     ]
    }
   ],
   "source": [
    "# optimal transport matrix\n",
    "P = ot.emd(a, b, C)\n",
    "\n",
    "# wasserstein distence\n",
    "wasserstein_distence = ot.emd2(a, b, C)\n",
    "\n",
    "print(P.round(4))\n",
    "print(round(np.sqrt(wasserstein_distence),4))"
   ]
  }
 ],
 "metadata": {
  "kernelspec": {
   "display_name": "Python 3",
   "language": "python",
   "name": "python3"
  },
  "language_info": {
   "codemirror_mode": {
    "name": "ipython",
    "version": 3
   },
   "file_extension": ".py",
   "mimetype": "text/x-python",
   "name": "python",
   "nbconvert_exporter": "python",
   "pygments_lexer": "ipython3",
   "version": "3.10.5"
  }
 },
 "nbformat": 4,
 "nbformat_minor": 2
}
