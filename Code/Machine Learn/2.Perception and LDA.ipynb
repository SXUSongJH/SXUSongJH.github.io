{
 "cells": [
  {
   "cell_type": "markdown",
   "metadata": {},
   "source": [
    "# Perception and LDA"
   ]
  },
  {
   "cell_type": "code",
   "execution_count": 1,
   "metadata": {},
   "outputs": [],
   "source": [
    "import pandas as pd\n",
    "import numpy as np\n",
    "import matplotlib.pyplot as plt\n",
    "import math\n",
    "from sklearn.utils import shuffle \n",
    "%matplotlib inline"
   ]
  },
  {
   "cell_type": "markdown",
   "metadata": {},
   "source": [
    "## Perception"
   ]
  },
  {
   "cell_type": "markdown",
   "metadata": {},
   "source": [
    "### Data Generation"
   ]
  },
  {
   "cell_type": "code",
   "execution_count": 90,
   "metadata": {},
   "outputs": [
    {
     "data": {
      "text/html": [
       "<div>\n",
       "<style scoped>\n",
       "    .dataframe tbody tr th:only-of-type {\n",
       "        vertical-align: middle;\n",
       "    }\n",
       "\n",
       "    .dataframe tbody tr th {\n",
       "        vertical-align: top;\n",
       "    }\n",
       "\n",
       "    .dataframe thead th {\n",
       "        text-align: right;\n",
       "    }\n",
       "</style>\n",
       "<table border=\"1\" class=\"dataframe\">\n",
       "  <thead>\n",
       "    <tr style=\"text-align: right;\">\n",
       "      <th></th>\n",
       "      <th>x1</th>\n",
       "      <th>x2</th>\n",
       "      <th>y</th>\n",
       "    </tr>\n",
       "  </thead>\n",
       "  <tbody>\n",
       "    <tr>\n",
       "      <th>0</th>\n",
       "      <td>1.749421</td>\n",
       "      <td>2.193847</td>\n",
       "      <td>1</td>\n",
       "    </tr>\n",
       "    <tr>\n",
       "      <th>1</th>\n",
       "      <td>2.057071</td>\n",
       "      <td>1.983485</td>\n",
       "      <td>-1</td>\n",
       "    </tr>\n",
       "    <tr>\n",
       "      <th>2</th>\n",
       "      <td>2.830457</td>\n",
       "      <td>1.026819</td>\n",
       "      <td>-1</td>\n",
       "    </tr>\n",
       "    <tr>\n",
       "      <th>3</th>\n",
       "      <td>1.437378</td>\n",
       "      <td>2.345612</td>\n",
       "      <td>1</td>\n",
       "    </tr>\n",
       "    <tr>\n",
       "      <th>4</th>\n",
       "      <td>2.730692</td>\n",
       "      <td>1.493602</td>\n",
       "      <td>-1</td>\n",
       "    </tr>\n",
       "  </tbody>\n",
       "</table>\n",
       "</div>"
      ],
      "text/plain": [
       "         x1        x2  y\n",
       "0  1.749421  2.193847  1\n",
       "1  2.057071  1.983485 -1\n",
       "2  2.830457  1.026819 -1\n",
       "3  1.437378  2.345612  1\n",
       "4  2.730692  1.493602 -1"
      ]
     },
     "execution_count": 90,
     "metadata": {},
     "output_type": "execute_result"
    }
   ],
   "source": [
    "# Data Generation\n",
    "np.random.seed(1314)\n",
    "def data_generation(n,basepoint,ylabel):\n",
    "    x1 = np.random.random((n,))+np.array([basepoint[0]]*n)\n",
    "    x2 = np.random.random((n,))+np.array([basepoint[1]]*n)\n",
    "    y = np.array([ylabel]*n)\n",
    "    data = pd.DataFrame({\"x1\":x1,\"x2\":x2,\"y\":y})\n",
    "    return data\n",
    "\n",
    "# positive data\n",
    "positivedata = data_generation(n=30,basepoint=(1,2),ylabel=1)\n",
    "# negative data\n",
    "negativedata = data_generation(n=20,basepoint=(2,1),ylabel=-1)\n",
    "# train data\n",
    "train_data = pd.concat([positivedata,negativedata])\n",
    "train_data = shuffle(train_data)\n",
    "train_data.index = range(train_data.shape[0])\n",
    "train_data.head(5)"
   ]
  },
  {
   "cell_type": "code",
   "execution_count": 24,
   "metadata": {},
   "outputs": [
    {
     "name": "stdout",
     "output_type": "stream",
     "text": [
      "2.0570706604492566\n"
     ]
    }
   ],
   "source": [
    "x1=train_data.iloc[1,0]\n",
    "x2=train_data.iloc[1,1]\n",
    "print(x1)"
   ]
  },
  {
   "cell_type": "code",
   "execution_count": 4,
   "metadata": {},
   "outputs": [
    {
     "data": {
      "text/plain": [
       "<matplotlib.legend.Legend at 0x262505db190>"
      ]
     },
     "execution_count": 4,
     "metadata": {},
     "output_type": "execute_result"
    },
    {
     "data": {
      "image/png": "[encoded data removed]",
      "text/plain": [
       "<Figure size 432x288 with 1 Axes>"
      ]
     },
     "metadata": {
      "needs_background": "light"
     },
     "output_type": "display_data"
    }
   ],
   "source": [
    "# train data scatter plot\n",
    "plt.scatter(x=positivedata[\"x1\"],y=positivedata[\"x2\"],marker=\"o\",c=\"green\",label=\"positive data\")\n",
    "plt.scatter(x=negativedata[\"x1\"],y=negativedata[\"x2\"],marker=\"x\",c=\"red\",label=\"negative data\")\n",
    "plt.xlabel(\"x1\")\n",
    "plt.ylabel(\"x2\")\n",
    "plt.xlim((0,4))\n",
    "plt.ylim((0,4))\n",
    "plt.xticks(np.arange(0,4,0.5))\n",
    "plt.yticks(np.arange(0,4,0.5))\n",
    "plt.legend()"
   ]
  },
  {
   "cell_type": "markdown",
   "metadata": {},
   "source": [
    "### Parameter Solving"
   ]
  },
  {
   "cell_type": "code",
   "execution_count": 81,
   "metadata": {},
   "outputs": [],
   "source": [
    "def param_solving(train_data,lr,start_w):\n",
    "    # initial parameter\n",
    "    w = np.array(start_w) # w = [w1,w2,b]\n",
    "    x = train_data[[\"x1\",\"x2\"]].values\n",
    "    onecolumn = np.ones((train_data.shape[0],))\n",
    "    X = np.column_stack((x,onecolumn))\n",
    "    y = train_data[\"y\"].values\n",
    "    k = 0\n",
    "    inter_data = {\"k\":[],\"Parameter\":[],\"Loss Function\":[],\"Misclassifications\":[],\"Point Used for Update\":[]}\n",
    "    # stochastic gradient descent\n",
    "    while np.any((np.dot(X,w)*y<0) | (np.dot(X,w)*y==0)):\n",
    "        k += 1\n",
    "        falseindex = np.where((np.dot(X,w)*y<0) | (np.dot(X,w)*y==0))\n",
    "\n",
    "        # storing information about the iterative process\n",
    "        if k%5 == 0:\n",
    "            inter_data[\"k\"].append(k)\n",
    "            inter_data[\"Parameter\"].append(w.round(4))\n",
    "            falsedata = train_data.iloc[falseindex[0],:]\n",
    "            x_falseclassified = falsedata[[\"x1\",\"x2\"]].values\n",
    "            X_falseclassified = np.column_stack((x_falseclassified,np.ones((falsedata.shape[0],))))\n",
    "            y_falseclassified = falsedata[\"y\"].values\n",
    "            loss = -sum(np.dot(X_falseclassified,w)*y_falseclassified)\n",
    "            inter_data[\"Loss Function\"].append(loss.round(4))\n",
    "            inter_data[\"Misclassifications\"].append(falseindex[0])\n",
    "            inter_data[\"Point Used for Update\"].append(falseindex[0][0])\n",
    "        \n",
    "        x_forupdate = train_data.iloc[falseindex[0][0],[0,1]].values\n",
    "        y_forupdate = train_data.iloc[falseindex[0][0],[2]].values\n",
    "        delta = np.append(lr*y_forupdate*x_forupdate,lr*y_forupdate)\n",
    "        w = w + delta\n",
    "    inter_information = pd.DataFrame(inter_data)\n",
    "\n",
    "    result_data = {}\n",
    "    result_data[\"final parameters\"] = w.round(4)\n",
    "    result_data[\"interative information\"] = inter_information\n",
    "    result_data[\"number of iterations\"] = k\n",
    " \n",
    "    return result_data\n",
    "            \n",
    "                "
   ]
  },
  {
   "cell_type": "code",
   "execution_count": 95,
   "metadata": {},
   "outputs": [],
   "source": [
    "result = param_solving(train_data=train_data,lr=0.01,start_w=[1,1,1])"
   ]
  },
  {
   "cell_type": "code",
   "execution_count": 79,
   "metadata": {},
   "outputs": [
    {
     "data": {
      "text/plain": [
       "85"
      ]
     },
     "execution_count": 79,
     "metadata": {},
     "output_type": "execute_result"
    }
   ],
   "source": [
    "result[\"number of iterations\"]"
   ]
  },
  {
   "cell_type": "code",
   "execution_count": 91,
   "metadata": {},
   "outputs": [
    {
     "data": {
      "text/html": [
       "<div>\n",
       "<style scoped>\n",
       "    .dataframe tbody tr th:only-of-type {\n",
       "        vertical-align: middle;\n",
       "    }\n",
       "\n",
       "    .dataframe tbody tr th {\n",
       "        vertical-align: top;\n",
       "    }\n",
       "\n",
       "    .dataframe thead th {\n",
       "        text-align: right;\n",
       "    }\n",
       "</style>\n",
       "<table border=\"1\" class=\"dataframe\">\n",
       "  <thead>\n",
       "    <tr style=\"text-align: right;\">\n",
       "      <th></th>\n",
       "      <th>k</th>\n",
       "      <th>Parameter</th>\n",
       "      <th>Loss Function</th>\n",
       "      <th>Misclassifications</th>\n",
       "      <th>Point Used for Update</th>\n",
       "    </tr>\n",
       "  </thead>\n",
       "  <tbody>\n",
       "    <tr>\n",
       "      <th>0</th>\n",
       "      <td>5</td>\n",
       "      <td>[-0.0062, 0.0042, 0.0]</td>\n",
       "      <td>0.0161</td>\n",
       "      <td>[0, 5, 7, 9, 24, 28, 36, 43, 45, 49]</td>\n",
       "      <td>0</td>\n",
       "    </tr>\n",
       "    <tr>\n",
       "      <th>1</th>\n",
       "      <td>10</td>\n",
       "      <td>[0.0052, 0.0304, 0.01]</td>\n",
       "      <td>1.3912</td>\n",
       "      <td>[1, 2, 4, 10, 12, 13, 15, 18, 22, 29, 30, 32, ...</td>\n",
       "      <td>1</td>\n",
       "    </tr>\n",
       "    <tr>\n",
       "      <th>2</th>\n",
       "      <td>15</td>\n",
       "      <td>[-0.0215, 0.0147, 0.0]</td>\n",
       "      <td>0.0564</td>\n",
       "      <td>[0, 5, 7, 9, 24, 28, 36, 43, 45, 49]</td>\n",
       "      <td>0</td>\n",
       "    </tr>\n",
       "    <tr>\n",
       "      <th>3</th>\n",
       "      <td>20</td>\n",
       "      <td>[-0.0102, 0.0409, 0.01]</td>\n",
       "      <td>0.9020</td>\n",
       "      <td>[1, 2, 4, 10, 12, 13, 15, 18, 22, 29, 30, 32, ...</td>\n",
       "      <td>1</td>\n",
       "    </tr>\n",
       "    <tr>\n",
       "      <th>4</th>\n",
       "      <td>25</td>\n",
       "      <td>[-0.0369, 0.0252, 0.0]</td>\n",
       "      <td>0.0967</td>\n",
       "      <td>[0, 5, 7, 9, 24, 28, 36, 43, 45, 49]</td>\n",
       "      <td>0</td>\n",
       "    </tr>\n",
       "  </tbody>\n",
       "</table>\n",
       "</div>"
      ],
      "text/plain": [
       "    k                Parameter  Loss Function  \\\n",
       "0   5   [-0.0062, 0.0042, 0.0]         0.0161   \n",
       "1  10   [0.0052, 0.0304, 0.01]         1.3912   \n",
       "2  15   [-0.0215, 0.0147, 0.0]         0.0564   \n",
       "3  20  [-0.0102, 0.0409, 0.01]         0.9020   \n",
       "4  25   [-0.0369, 0.0252, 0.0]         0.0967   \n",
       "\n",
       "                                  Misclassifications  Point Used for Update  \n",
       "0               [0, 5, 7, 9, 24, 28, 36, 43, 45, 49]                      0  \n",
       "1  [1, 2, 4, 10, 12, 13, 15, 18, 22, 29, 30, 32, ...                      1  \n",
       "2               [0, 5, 7, 9, 24, 28, 36, 43, 45, 49]                      0  \n",
       "3  [1, 2, 4, 10, 12, 13, 15, 18, 22, 29, 30, 32, ...                      1  \n",
       "4               [0, 5, 7, 9, 24, 28, 36, 43, 45, 49]                      0  "
      ]
     },
     "execution_count": 91,
     "metadata": {},
     "output_type": "execute_result"
    }
   ],
   "source": [
    "result[\"interative information\"].head(5)"
   ]
  },
  {
   "cell_type": "code",
   "execution_count": 94,
   "metadata": {},
   "outputs": [
    {
     "data": {
      "text/plain": [
       "array([ 1,  2,  4, 10, 12, 13, 15, 18, 22, 29, 30, 32, 33, 37, 38, 39, 40,\n",
       "       42, 44, 46], dtype=int64)"
      ]
     },
     "execution_count": 94,
     "metadata": {},
     "output_type": "execute_result"
    }
   ],
   "source": [
    "result[\"interative information\"].iloc[3,3]"
   ]
  },
  {
   "cell_type": "code",
   "execution_count": 97,
   "metadata": {},
   "outputs": [
    {
     "data": {
      "text/plain": [
       "array([-0.2049, -0.0153,  0.45  ])"
      ]
     },
     "execution_count": 97,
     "metadata": {},
     "output_type": "execute_result"
    }
   ],
   "source": [
    "result[\"final parameters\"]"
   ]
  },
  {
   "cell_type": "code",
   "execution_count": 96,
   "metadata": {},
   "outputs": [
    {
     "data": {
      "text/plain": [
       "<matplotlib.legend.Legend at 0x262568438e0>"
      ]
     },
     "execution_count": 96,
     "metadata": {},
     "output_type": "execute_result"
    },
    {
     "data": {
      "image/png": "[encoded data removed]",
      "text/plain": [
       "<Figure size 432x288 with 1 Axes>"
      ]
     },
     "metadata": {
      "needs_background": "light"
     },
     "output_type": "display_data"
    }
   ],
   "source": [
    "w = result[\"final parameters\"]\n",
    "x1_line = np.linspace(0,4,1000)\n",
    "x2_line = (-w[0]*x1_line - w[2])/w[1]\n",
    "plt.scatter(x=positivedata[\"x1\"],y=positivedata[\"x2\"],marker=\"o\",c=\"green\",label=\"positive data\")\n",
    "plt.scatter(x=negativedata[\"x1\"],y=negativedata[\"x2\"],marker=\"x\",c=\"red\",label=\"negative data\")\n",
    "plt.plot(x1_line,x2_line,c=\"blue\",label=\"Classification Hyperplane\")\n",
    "plt.xlim((0,4))\n",
    "plt.ylim((0,4))\n",
    "plt.xticks(np.arange(0,4,0.5))\n",
    "plt.yticks(np.arange(0,4,0.5))\n",
    "plt.xlabel(\"x1\")\n",
    "plt.ylabel(\"x2\")\n",
    "plt.legend()"
   ]
  }
 ],
 "metadata": {
  "kernelspec": {
   "display_name": "Python 3",
   "language": "python",
   "name": "python3"
  },
  "language_info": {
   "codemirror_mode": {
    "name": "ipython",
    "version": 3
   },
   "file_extension": ".py",
   "mimetype": "text/x-python",
   "name": "python",
   "nbconvert_exporter": "python",
   "pygments_lexer": "ipython3",
   "version": "3.10.5"
  }
 },
 "nbformat": 4,
 "nbformat_minor": 2
}
