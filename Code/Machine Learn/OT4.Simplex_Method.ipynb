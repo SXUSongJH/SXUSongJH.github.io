{
 "cells": [
  {
   "cell_type": "code",
   "execution_count": 2,
   "metadata": {},
   "outputs": [
    {
     "name": "stdout",
     "output_type": "stream",
     "text": [
      "[10.  0.  0.  0.  0.]\n"
     ]
    }
   ],
   "source": [
    "from scipy.optimize import linprog\n",
    "\n",
    "c = [1, 2, 3, 4, 5]\n",
    "\n",
    "A_eq = [\n",
    "    [1, 1, 1, 1, 1],\n",
    "    [2, 2, 3, 4, 5] \n",
    "]\n",
    "b_eq = [\n",
    "    10, \n",
    "    20  \n",
    "]\n",
    "\n",
    "result = linprog(c, A_eq=A_eq, b_eq=b_eq, method='simplex')\n",
    "\n",
    "print(result['x'])"
   ]
  }
 ],
 "metadata": {
  "kernelspec": {
   "display_name": "Python 3",
   "language": "python",
   "name": "python3"
  },
  "language_info": {
   "codemirror_mode": {
    "name": "ipython",
    "version": 3
   },
   "file_extension": ".py",
   "mimetype": "text/x-python",
   "name": "python",
   "nbconvert_exporter": "python",
   "pygments_lexer": "ipython3",
   "version": "3.10.5"
  }
 },
 "nbformat": 4,
 "nbformat_minor": 2
}
