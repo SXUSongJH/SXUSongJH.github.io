{
 "cells": [
  {
   "cell_type": "markdown",
   "metadata": {},
   "source": [
    "# Hard-Margin SVM"
   ]
  },
  {
   "cell_type": "code",
   "execution_count": 41,
   "metadata": {},
   "outputs": [],
   "source": [
    "import math\n",
    "import pandas as pd\n",
    "import numpy as np\n",
    "import matplotlib.pyplot as plt\n",
    "from cvxopt import matrix,solvers\n",
    "from sklearn.utils import shuffle"
   ]
  },
  {
   "cell_type": "markdown",
   "metadata": {},
   "source": [
    "## Data Generation"
   ]
  },
  {
   "cell_type": "code",
   "execution_count": 2,
   "metadata": {},
   "outputs": [
    {
     "data": {
      "text/html": [
       "<div>\n",
       "<style scoped>\n",
       "    .dataframe tbody tr th:only-of-type {\n",
       "        vertical-align: middle;\n",
       "    }\n",
       "\n",
       "    .dataframe tbody tr th {\n",
       "        vertical-align: top;\n",
       "    }\n",
       "\n",
       "    .dataframe thead th {\n",
       "        text-align: right;\n",
       "    }\n",
       "</style>\n",
       "<table border=\"1\" class=\"dataframe\">\n",
       "  <thead>\n",
       "    <tr style=\"text-align: right;\">\n",
       "      <th></th>\n",
       "      <th>x1</th>\n",
       "      <th>x2</th>\n",
       "      <th>y</th>\n",
       "    </tr>\n",
       "  </thead>\n",
       "  <tbody>\n",
       "    <tr>\n",
       "      <th>0</th>\n",
       "      <td>3.799045</td>\n",
       "      <td>1.773208</td>\n",
       "      <td>-1</td>\n",
       "    </tr>\n",
       "    <tr>\n",
       "      <th>1</th>\n",
       "      <td>1.586502</td>\n",
       "      <td>3.739881</td>\n",
       "      <td>1</td>\n",
       "    </tr>\n",
       "    <tr>\n",
       "      <th>2</th>\n",
       "      <td>3.664959</td>\n",
       "      <td>1.145345</td>\n",
       "      <td>-1</td>\n",
       "    </tr>\n",
       "    <tr>\n",
       "      <th>3</th>\n",
       "      <td>1.059613</td>\n",
       "      <td>3.263852</td>\n",
       "      <td>1</td>\n",
       "    </tr>\n",
       "    <tr>\n",
       "      <th>4</th>\n",
       "      <td>1.279567</td>\n",
       "      <td>3.872181</td>\n",
       "      <td>1</td>\n",
       "    </tr>\n",
       "  </tbody>\n",
       "</table>\n",
       "</div>"
      ],
      "text/plain": [
       "         x1        x2  y\n",
       "0  3.799045  1.773208 -1\n",
       "1  1.586502  3.739881  1\n",
       "2  3.664959  1.145345 -1\n",
       "3  1.059613  3.263852  1\n",
       "4  1.279567  3.872181  1"
      ]
     },
     "execution_count": 2,
     "metadata": {},
     "output_type": "execute_result"
    }
   ],
   "source": [
    "# data generation\n",
    "np.random.seed(520)\n",
    "def data_generation(n,basepoint,ylabel):\n",
    "    x1 = np.random.random((n,))+np.array([basepoint[0]]*n)\n",
    "    x2 = np.random.random((n,))+np.array([basepoint[1]]*n)\n",
    "    y = np.array([ylabel]*n)\n",
    "    data = pd.DataFrame({\"x1\":x1,\"x2\":x2,\"y\":y})\n",
    "    return data\n",
    "\n",
    "# positive data\n",
    "positivedata = data_generation(n=30,basepoint=(1,3),ylabel=1)\n",
    "# negative data\n",
    "negativedata = data_generation(n=20,basepoint=(3,1),ylabel=-1)\n",
    "# train data\n",
    "train_data = pd.concat([positivedata,negativedata])\n",
    "train_data = shuffle(train_data)\n",
    "train_data.index = range(train_data.shape[0])\n",
    "train_data.head(5)"
   ]
  },
  {
   "cell_type": "code",
   "execution_count": 3,
   "metadata": {},
   "outputs": [
    {
     "data": {
      "text/plain": [
       "<matplotlib.legend.Legend at 0x2656e4b1e40>"
      ]
     },
     "execution_count": 3,
     "metadata": {},
     "output_type": "execute_result"
    },
    {
     "data": {
      "image/png": "[encoded data removed]",
      "text/plain": [
       "<Figure size 432x288 with 1 Axes>"
      ]
     },
     "metadata": {
      "needs_background": "light"
     },
     "output_type": "display_data"
    }
   ],
   "source": [
    "# train data scatter plot\n",
    "plt.scatter(x=positivedata[\"x1\"],y=positivedata[\"x2\"],marker=\"o\",c=\"green\",label=\"positive data\")\n",
    "plt.scatter(x=negativedata[\"x1\"],y=negativedata[\"x2\"],marker=\"x\",c=\"red\",label=\"negative data\")\n",
    "plt.xlabel(\"x1\")\n",
    "plt.ylabel(\"x2\")\n",
    "plt.xlim((0,5))\n",
    "plt.ylim((0,5))\n",
    "plt.xticks(np.arange(0,5,0.5))\n",
    "plt.yticks(np.arange(0,5,0.5))\n",
    "plt.legend()"
   ]
  },
  {
   "cell_type": "markdown",
   "metadata": {},
   "source": [
    "## Hard-Margin SVM Algorithm"
   ]
  },
  {
   "cell_type": "code",
   "execution_count": 104,
   "metadata": {},
   "outputs": [
    {
     "name": "stdout",
     "output_type": "stream",
     "text": [
      "     pcost       dcost       gap    pres   dres\n",
      " 0: -1.9437e+00 -3.3220e+00  9e+01  9e+00  1e+00\n",
      " 1: -5.1268e-01 -1.4543e+00  6e+00  5e-01  8e-02\n",
      " 2: -2.4485e-01 -9.4850e-01  7e-01  2e-16  1e-15\n",
      " 3: -4.4781e-01 -6.5603e-01  2e-01  9e-17  1e-15\n",
      " 4: -6.1196e-01 -6.5142e-01  4e-02  2e-16  1e-15\n",
      " 5: -6.4066e-01 -6.4112e-01  5e-04  1e-16  2e-15\n",
      " 6: -6.4099e-01 -6.4100e-01  5e-06  1e-16  2e-15\n",
      " 7: -6.4099e-01 -6.4099e-01  5e-08  1e-16  2e-15\n",
      "Optimal solution found.\n"
     ]
    }
   ],
   "source": [
    "# data matrix\n",
    "train_X = train_data.iloc[:,[0,1]].values\n",
    "train_y = train_data.iloc[:,2].values\n",
    "\n",
    "# parameters solving\n",
    "def HardMargin_SVM(X,y):\n",
    "    Y = np.array([y]*X.shape[1]).T\n",
    "    XdotY = X * Y\n",
    "    n_samples = X.shape[0]\n",
    "    Gram_Matrix = np.zeros((n_samples,n_samples))\n",
    "    for i in range(n_samples):\n",
    "        for j in range(n_samples):\n",
    "            Gram_Matrix[i,j] = np.dot(XdotY[i],XdotY[j])\n",
    "    \n",
    "    P = matrix(Gram_Matrix).T\n",
    "    q = matrix(-np.ones(n_samples))\n",
    "    G = matrix(-np.eye(n_samples))\n",
    "    h = matrix(np.zeros(n_samples))\n",
    "    A = matrix(y.astype(float)).T\n",
    "    b = matrix([0.0])\n",
    "\n",
    "    lamda = np.array(solvers.qp(P,q,G,h,A,b)['x'])\n",
    "    threshold = 1e-5\n",
    "    lamda[lamda < threshold] = 0\n",
    "    \n",
    "    w_hat = np.round(np.sum(lamda*XdotY,axis=0),4)\n",
    "\n",
    "    positive_index = np.where(lamda>0)[0][0]\n",
    "    SV_x = X[positive_index]\n",
    "    SV_y = y[positive_index]\n",
    "    GM_xwithSVx = np.zeros(n_samples)\n",
    "    for i in range(n_samples):\n",
    "        GM_xwithSVx[i] = np.dot(X[i],SV_x)\n",
    "\n",
    "    lamda = lamda.ravel()\n",
    "    b_hat = round(SV_y - np.dot(lamda,y * GM_xwithSVx),4)\n",
    "\n",
    "    return [w_hat,b_hat],lamda\n",
    "\n",
    "theta,lamda = HardMargin_SVM(X=train_X,y=train_y)\n",
    "\n",
    "    "
   ]
  },
  {
   "cell_type": "code",
   "execution_count": 105,
   "metadata": {},
   "outputs": [
    {
     "data": {
      "text/plain": [
       "[array([-0.8985,  0.6889]), 0.4643]"
      ]
     },
     "execution_count": 105,
     "metadata": {},
     "output_type": "execute_result"
    }
   ],
   "source": [
    "theta"
   ]
  },
  {
   "cell_type": "markdown",
   "metadata": {},
   "source": [
    "## SVM Model"
   ]
  },
  {
   "cell_type": "code",
   "execution_count": 109,
   "metadata": {},
   "outputs": [
    {
     "data": {
      "text/plain": [
       "<matplotlib.legend.Legend at 0x2657e3d1ba0>"
      ]
     },
     "execution_count": 109,
     "metadata": {},
     "output_type": "execute_result"
    },
    {
     "data": {
      "image/png": "[encoded data removed]",
      "text/plain": [
       "<Figure size 576x432 with 1 Axes>"
      ]
     },
     "metadata": {
      "needs_background": "light"
     },
     "output_type": "display_data"
    }
   ],
   "source": [
    "# draw the Optimal Classification Hyperplane\n",
    "w,b = theta[0],theta[1]\n",
    "x1 = np.linspace(0,5,1000)\n",
    "x2 = -(w[0]*x1+b)/w[1]\n",
    "plt.figure(figsize=(8, 6))\n",
    "plt.scatter(x=positivedata[\"x1\"],y=positivedata[\"x2\"],marker=\"o\",c=\"green\",label=\"positive data\")\n",
    "plt.scatter(x=negativedata[\"x1\"],y=negativedata[\"x2\"],marker=\"x\",c=\"red\",label=\"negative data\")\n",
    "plt.plot(x1,x2,c=\"blue\",label=\"Optimal Classification Hyperplane\")\n",
    "plt.xlabel(\"x1\")\n",
    "plt.ylabel(\"x2\")\n",
    "plt.xlim((0,5))\n",
    "plt.ylim((0,5))\n",
    "plt.xticks(np.arange(0,5,0.5))\n",
    "plt.yticks(np.arange(0,5,0.5))\n",
    "plt.legend()\n"
   ]
  },
  {
   "cell_type": "code",
   "execution_count": 93,
   "metadata": {},
   "outputs": [
    {
     "data": {
      "text/plain": [
       "array([1, 3, 5])"
      ]
     },
     "execution_count": 93,
     "metadata": {},
     "output_type": "execute_result"
    }
   ],
   "source": [
    "a = np.array([1,2,3])\n",
    "2*a-1"
   ]
  }
 ],
 "metadata": {
  "kernelspec": {
   "display_name": "Python 3",
   "language": "python",
   "name": "python3"
  },
  "language_info": {
   "codemirror_mode": {
    "name": "ipython",
    "version": 3
   },
   "file_extension": ".py",
   "mimetype": "text/x-python",
   "name": "python",
   "nbconvert_exporter": "python",
   "pygments_lexer": "ipython3",
   "version": "3.10.5"
  }
 },
 "nbformat": 4,
 "nbformat_minor": 2
}
