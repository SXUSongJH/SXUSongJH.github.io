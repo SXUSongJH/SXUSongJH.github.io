{
 "cells": [
  {
   "cell_type": "code",
   "execution_count": 1,
   "metadata": {},
   "outputs": [],
   "source": [
    "import pandas as pd\n",
    "import numpy as np\n",
    "import matplotlib.pyplot as plt\n",
    "import math\n",
    "%matplotlib inline"
   ]
  },
  {
   "cell_type": "markdown",
   "metadata": {},
   "source": [
    "**Polynomial Regression**"
   ]
  },
  {
   "cell_type": "code",
   "execution_count": 7,
   "metadata": {},
   "outputs": [
    {
     "data": {
      "text/html": [
       "<div>\n",
       "<style scoped>\n",
       "    .dataframe tbody tr th:only-of-type {\n",
       "        vertical-align: middle;\n",
       "    }\n",
       "\n",
       "    .dataframe tbody tr th {\n",
       "        vertical-align: top;\n",
       "    }\n",
       "\n",
       "    .dataframe thead th {\n",
       "        text-align: right;\n",
       "    }\n",
       "</style>\n",
       "<table border=\"1\" class=\"dataframe\">\n",
       "  <thead>\n",
       "    <tr style=\"text-align: right;\">\n",
       "      <th></th>\n",
       "      <th>y</th>\n",
       "      <th>x</th>\n",
       "    </tr>\n",
       "  </thead>\n",
       "  <tbody>\n",
       "    <tr>\n",
       "      <th>0</th>\n",
       "      <td>-0.694663</td>\n",
       "      <td>0.648133</td>\n",
       "    </tr>\n",
       "    <tr>\n",
       "      <th>1</th>\n",
       "      <td>-0.736413</td>\n",
       "      <td>0.884145</td>\n",
       "    </tr>\n",
       "    <tr>\n",
       "      <th>2</th>\n",
       "      <td>-1.031501</td>\n",
       "      <td>0.830572</td>\n",
       "    </tr>\n",
       "    <tr>\n",
       "      <th>3</th>\n",
       "      <td>0.650874</td>\n",
       "      <td>0.088066</td>\n",
       "    </tr>\n",
       "    <tr>\n",
       "      <th>4</th>\n",
       "      <td>-0.277813</td>\n",
       "      <td>0.972058</td>\n",
       "    </tr>\n",
       "  </tbody>\n",
       "</table>\n",
       "</div>"
      ],
      "text/plain": [
       "          y         x\n",
       "0 -0.694663  0.648133\n",
       "1 -0.736413  0.884145\n",
       "2 -1.031501  0.830572\n",
       "3  0.650874  0.088066\n",
       "4 -0.277813  0.972058"
      ]
     },
     "execution_count": 7,
     "metadata": {},
     "output_type": "execute_result"
    }
   ],
   "source": [
    "# Data Generation\n",
    "np.random.seed(1314) \n",
    "x = np.random.random((30,)) # x belong to (0,1)\n",
    "r = np.random.normal(0,0.1,30) # r ~ N(0,0.1)\n",
    "y = np.sin(2*(math.pi)*x)+r\n",
    "data = {\"y\":y,\"x\":x}\n",
    "Data = pd.DataFrame(data,columns=[\"y\",\"x\"])\n",
    "Data.head(5)"
   ]
  },
  {
   "cell_type": "code",
   "execution_count": 9,
   "metadata": {},
   "outputs": [
    {
     "data": {
      "text/plain": [
       "<matplotlib.legend.Legend at 0x28da76a3cd0>"
      ]
     },
     "execution_count": 9,
     "metadata": {},
     "output_type": "execute_result"
    },
    {
     "data": {
      "image/png": "[encoded data removed]",
      "text/plain": [
       "<Figure size 432x288 with 1 Axes>"
      ]
     },
     "metadata": {
      "needs_background": "light"
     },
     "output_type": "display_data"
    }
   ],
   "source": [
    "# Train data\n",
    "train_data = Data[:20]\n",
    "test_data = Data[20:]\n",
    "# Tradin data scatter plot\n",
    "plt.scatter(train_data[\"x\"],train_data[\"y\"],marker=\"o\",c=\"black\",label=\"train data\")\n",
    "# Real line\n",
    "def real_func(x):\n",
    "    return np.sin(2*np.pi*x)\n",
    "x_points = np.linspace(0,1,1000)\n",
    "plt.plot(x_points,real_func(x_points),label=\"real curve\")\n",
    "plt.xlabel(\"x\")\n",
    "plt.ylabel(\"y\")\n",
    "plt.legend()"
   ]
  },
  {
   "cell_type": "code",
   "execution_count": 82,
   "metadata": {},
   "outputs": [],
   "source": [
    "# Ploy-regression\n",
    "def ployreg(M):  \n",
    "    global train_data\n",
    "    x = train_data[\"x\"].values\n",
    "    X = np.ones((len(x),M+1))  \n",
    "    for i in range(M):  \n",
    "        X[:,i+1]=np.power(x,i+1)\n",
    "    y = train_data[\"y\"].values\n",
    "    X_T = np.transpose(X)\n",
    "    X_TX = np.dot(X_T,X)\n",
    "    w = np.dot(np.linalg.inv(X_TX),np.dot(X_T,y))\n",
    "    return w.round(4)\n"
   ]
  },
  {
   "cell_type": "code",
   "execution_count": 110,
   "metadata": {},
   "outputs": [],
   "source": [
    "# calculate error\n",
    "def calerror(M):\n",
    "    global train_data,test_data\n",
    "    error = {}\n",
    "    w = ployreg(M)\n",
    "    # train error\n",
    "    x = train_data[\"x\"].values\n",
    "    X = np.ones((len(x),M+1))  \n",
    "    for i in range(M):  \n",
    "        X[:,i+1]=np.power(x,i+1)\n",
    "    y = train_data[\"y\"].values\n",
    "    e = np.dot(X,w)-y\n",
    "    train_error = (np.dot(np.transpose(e),e))/len(x)\n",
    "    # test error\n",
    "    x = test_data[\"x\"].values\n",
    "    X = np.ones((len(x),M+1))  \n",
    "    for i in range(M):  \n",
    "        X[:,i+1]=np.power(x,i+1)\n",
    "    y = test_data[\"y\"].values\n",
    "    e = np.dot(X,w)-y\n",
    "    test_error = (np.dot(np.transpose(e),e))/len(x)\n",
    "    error[\"train error\"] = train_error.round(4)\n",
    "    error[\"test error\"] = test_error.round(4)\n",
    "    return error"
   ]
  },
  {
   "cell_type": "code",
   "execution_count": 132,
   "metadata": {},
   "outputs": [
    {
     "data": {
      "text/plain": [
       "{'train error': 0.004, 'test error': 0.0359}"
      ]
     },
     "execution_count": 132,
     "metadata": {},
     "output_type": "execute_result"
    }
   ],
   "source": [
    "calerror(10)"
   ]
  },
  {
   "cell_type": "code",
   "execution_count": 108,
   "metadata": {},
   "outputs": [],
   "source": [
    "# draw regression curve\n",
    "def regcurve(M):\n",
    "    global train_data\n",
    "    # Tradin data scatter plot\n",
    "    plt.scatter(train_data[\"x\"],train_data[\"y\"],marker=\"o\",c=\"black\",label=\"train data\")\n",
    "    # real line\n",
    "    x_points = np.linspace(0,1,1000)\n",
    "    plt.plot(x_points,real_func(x_points),label=\"real curve\")\n",
    "    # regression curve\n",
    "    w = ployreg(M)\n",
    "    X_points = np.ones((len(x_points),M+1))\n",
    "    for i in range(M):\n",
    "        X_points[:,i+1] = np.power(x_points,i+1)\n",
    "    y_points = np.dot(X_points,w)\n",
    "    plt.plot(x_points,y_points,c=\"red\",label=\"regression curve\")\n",
    "    plt.xlabel(\"x\")\n",
    "    plt.ylabel(\"y\")\n",
    "    plt.title(f\"M={M}\")\n",
    "    plt.legend()"
   ]
  },
  {
   "cell_type": "code",
   "execution_count": 109,
   "metadata": {},
   "outputs": [
    {
     "data": {
      "image/png": "[encoded data removed]",
      "text/plain": [
       "<Figure size 432x288 with 1 Axes>"
      ]
     },
     "metadata": {
      "needs_background": "light"
     },
     "output_type": "display_data"
    }
   ],
   "source": [
    "regcurve(0)"
   ]
  }
 ],
 "metadata": {
  "kernelspec": {
   "display_name": "Python 3",
   "language": "python",
   "name": "python3"
  },
  "language_info": {
   "codemirror_mode": {
    "name": "ipython",
    "version": 3
   },
   "file_extension": ".py",
   "mimetype": "text/x-python",
   "name": "python",
   "nbconvert_exporter": "python",
   "pygments_lexer": "ipython3",
   "version": "3.10.5"
  },
  "orig_nbformat": 4
 },
 "nbformat": 4,
 "nbformat_minor": 2
}
